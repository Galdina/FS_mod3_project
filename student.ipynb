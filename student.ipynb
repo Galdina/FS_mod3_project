{
 "cells": [
  {
   "cell_type": "markdown",
   "metadata": {},
   "source": [
    "## Final Project Submission\n",
    "\n",
    "Please fill out:\n",
    "* Student name: Galdina Maria\n",
    "* Student pace: full time\n",
    "* Scheduled project review date/time: 06/03/2020 at 2:15pm\n",
    "* Instructor name: Amber Yandow \n",
    "* Blog post URL: https://galdina.github.io/churn_prediction_with_machine_learning\n",
    "\n",
    "This repo contain:\n",
    "1. Project files:\n",
    " - 1_Obtain.ipynb\n",
    " - 2_Scrub.ipynb\n",
    " - 3_EDA.ipynb\n",
    " - 4_modeling.ipynb\n",
    " - 5_interpret.ipynb\n",
    "2. Folders for:\n",
    " - dataset files\n",
    " - python customer functions\n",
    " - images\n",
    "3. presentation\n",
    "4. some required for repo file"
   ]
  },
  {
   "cell_type": "code",
   "execution_count": null,
   "metadata": {},
   "outputs": [],
   "source": []
  }
 ],
 "metadata": {
  "kernelspec": {
   "display_name": "Python 3",
   "language": "python",
   "name": "python3"
  },
  "language_info": {
   "codemirror_mode": {
    "name": "ipython",
    "version": 3
   },
   "file_extension": ".py",
   "mimetype": "text/x-python",
   "name": "python",
   "nbconvert_exporter": "python",
   "pygments_lexer": "ipython3",
   "version": "3.7.4"
  }
 },
 "nbformat": 4,
 "nbformat_minor": 2
}
