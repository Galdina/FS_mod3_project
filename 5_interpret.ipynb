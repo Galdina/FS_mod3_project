{
 "cells": [
  {
   "cell_type": "markdown",
   "metadata": {},
   "source": [
    "#  Questions for project:\n",
    "\n",
    "1. What are the most important factors affecting the customer churn?<br>\n",
    "Which features decrease churn rate and which increase churn rate?\n",
    "According on EDA and feature importance I can say that long-term contracts (One year contract\n",
    "or two year contract), Tenure and Tech support decrease churn rate.\n",
    "When Month-to-month contract, fiber optic internet service, and monthly charges increase churn rate.\n",
    "\n",
    "\n",
    "2. Is it predictive modelling helpful for teleco companies? Can it handle the problem of customer churn? <br>\n",
    "No algorithm will predict churn with 100% accuracy. As a result, there will always be a tradeoff between precision and churn. My machine learning models derived from the given data predict customer churn with 78% accuracy. Using this model we can find the customers at high risk to churn.\n",
    "\n",
    "\n",
    "3. What is companies needed to do to retain churning customers?<br>\n",
    "    - offer a bargain to month-to-month customers \n",
    "    - keep engaged tenure customers (cupons, addintional services and etc.)\n",
    "    - think about internet quality. Something happened with fiber optic internet services."
   ]
  },
  {
   "cell_type": "code",
   "execution_count": null,
   "metadata": {},
   "outputs": [],
   "source": []
  }
 ],
 "metadata": {
  "kernelspec": {
   "display_name": "Python 3",
   "language": "python",
   "name": "python3"
  },
  "language_info": {
   "codemirror_mode": {
    "name": "ipython",
    "version": 3
   },
   "file_extension": ".py",
   "mimetype": "text/x-python",
   "name": "python",
   "nbconvert_exporter": "python",
   "pygments_lexer": "ipython3",
   "version": "3.7.4"
  }
 },
 "nbformat": 4,
 "nbformat_minor": 2
}
